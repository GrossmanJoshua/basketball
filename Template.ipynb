{
 "cells": [
  {
   "cell_type": "code",
   "execution_count": 1,
   "metadata": {
    "collapsed": true
   },
   "outputs": [],
   "source": [
    "import sys\n",
    "#sys.path.insert(0,'..')"
   ]
  },
  {
   "cell_type": "code",
   "execution_count": null,
   "metadata": {
    "collapsed": true
   },
   "outputs": [],
   "source": [
    "# numpy\n",
    "import numpy as np\n",
    "import numpy.linalg as LA\n",
    "\n",
    "# Pandas\n",
    "import pandas as pd\n",
    "\n",
    "# XML/HTML\n",
    "import xml.etree.ElementTree as ET\n",
    "from bs4 import BeautifulSoup\n",
    "\n",
    "# Standard library\n",
    "import glob\n",
    "import itertools\n",
    "import re\n",
    "import os\n",
    "\n",
    "from io import StringIO\n",
    "\n",
    "# Plotly\n",
    "from plotly.offline import init_notebook_mode, iplot\n",
    "from plotly import graph_objs as go\n",
    "from plotly import tools\n",
    "from plotly.colors import DEFAULT_PLOTLY_COLORS\n",
    "init_notebook_mode()\n",
    "\n",
    "# NBA\n",
    "import annotations\n",
    "import htmltable\n",
    "import nba"
   ]
  }
 ],
 "metadata": {
  "anaconda-cloud": {},
  "kernelspec": {
   "display_name": "Python [default]",
   "language": "python",
   "name": "python3"
  },
  "language_info": {
   "codemirror_mode": {
    "name": "ipython",
    "version": 3
   },
   "file_extension": ".py",
   "mimetype": "text/x-python",
   "name": "python",
   "nbconvert_exporter": "python",
   "pygments_lexer": "ipython3",
   "version": "3.4.5"
  }
 },
 "nbformat": 4,
 "nbformat_minor": 1
}
