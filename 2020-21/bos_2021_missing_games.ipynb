{
 "cells": [
  {
   "cell_type": "code",
   "execution_count": 6,
   "metadata": {},
   "outputs": [],
   "source": [
    "import numpy as np\n",
    "\n",
    "import sys\n",
    "sys.path.insert(0,'..')\n",
    "\n",
    "import souploader\n",
    "\n",
    "import pandas as pd"
   ]
  },
  {
   "cell_type": "code",
   "execution_count": 7,
   "metadata": {},
   "outputs": [],
   "source": [
    "from collections import defaultdict"
   ]
  },
  {
   "cell_type": "code",
   "execution_count": 8,
   "metadata": {},
   "outputs": [],
   "source": [
    "import srs\n",
    "\n",
    "import bballutils"
   ]
  },
  {
   "cell_type": "code",
   "execution_count": 9,
   "metadata": {},
   "outputs": [],
   "source": [
    "num_games = 63\n",
    "missing = {\n",
    "    'jt': [11,12,13,14,15,43,62],\n",
    "    'jb': [21,22,34,47,57,59,60],\n",
    "    'ms': [8] + list(range(19,37)) + [58,63],\n",
    "    'kw': list(range(1,12)) + [16,20,25,28,32,40,43,46,52,58,60,62,63],\n",
    "    'rw': [2,10,11,12,13,24,25,48] + list(range(56,63)),\n",
    "#     'tt': [5,10] + list(range(39,52)),\n",
    "#     'pp': list(range(15,21)),\n",
    "}"
   ]
  },
  {
   "cell_type": "code",
   "execution_count": 10,
   "metadata": {},
   "outputs": [
    {
     "data": {
      "text/plain": [
       "array([4, 3, 4, 4, 4, 4, 4, 3, 4, 3, 2, 3, 3, 4, 4, 4, 5, 5, 4, 3, 3, 3,\n",
       "       4, 3, 2, 4, 4, 3, 4, 4, 4, 3, 4, 3, 4, 4, 5, 5, 5, 4, 5, 5, 3, 5,\n",
       "       5, 4, 4, 4, 5, 5, 5, 4, 5, 5, 5, 4, 3, 2, 3, 2, 4, 2, 3])"
      ]
     },
     "execution_count": 10,
     "metadata": {},
     "output_type": "execute_result"
    }
   ],
   "source": [
    "all_games = np.full(num_games, len(missing))\n",
    "\n",
    "for i in missing.values():\n",
    "    for j in i:\n",
    "        game = j-1\n",
    "        \n",
    "        all_games[game] -= 1\n",
    "all_games"
   ]
  },
  {
   "cell_type": "markdown",
   "metadata": {},
   "source": [
    "# load game results"
   ]
  },
  {
   "cell_type": "code",
   "execution_count": 11,
   "metadata": {},
   "outputs": [],
   "source": [
    "# Load just boston games\n",
    "soup = souploader.load_soup('https://www.basketball-reference.com/teams/BOS/2021_games.html')\n",
    "\n",
    "table = souploader.soup_get_table_as_pandas(soup, id='games')\n",
    "\n",
    "table = table[table['Opponent'] != 'Opponent']\n",
    "\n",
    "table = table.rename(columns={'Unnamed: 7': 'Result'})\n",
    "\n",
    "table['G'] = pd.to_numeric(table['G'])\n",
    "\n",
    "table['Tm'] = pd.to_numeric(table['Tm'])\n",
    "table['Opp'] = pd.to_numeric(table['Opp'])"
   ]
  },
  {
   "cell_type": "code",
   "execution_count": 12,
   "metadata": {},
   "outputs": [],
   "source": [
    "all_games_temp = np.full(len(table), np.nan)\n",
    "all_games_temp[:len(all_games)] = all_games\n",
    "table['NumStarters'] = all_games_temp"
   ]
  },
  {
   "cell_type": "code",
   "execution_count": 13,
   "metadata": {},
   "outputs": [
    {
     "name": "stdout",
     "output_type": "stream",
     "text": [
      "Result|Opponent|Date|Tm|Opp\n",
      "----|----|----|----|----\n",
      "L|San Antonio Spurs|Wed, Jan 27, 2021|106|110\n",
      "L|Los Angeles Lakers|Sat, Jan 30, 2021|95|96\n",
      "L|Brooklyn Nets|Thu, Mar 11, 2021|109|121\n",
      "W|Houston Rockets|Sun, Mar 14, 2021|134|107\n",
      "L|Utah Jazz|Tue, Mar 16, 2021|109|117\n",
      "L|Sacramento Kings|Fri, Mar 19, 2021|96|107\n",
      "W|Orlando Magic|Sun, Mar 21, 2021|112|96\n",
      "L|Milwaukee Bucks|Wed, Mar 24, 2021|119|121\n",
      "W|Milwaukee Bucks|Fri, Mar 26, 2021|122|114\n",
      "W|Houston Rockets|Fri, Apr 2, 2021|118|102\n",
      "W|Charlotte Hornets|Sun, Apr 4, 2021|116|86\n",
      "L|Philadelphia 76ers|Tue, Apr 6, 2021|96|106\n",
      "W|Minnesota Timberwolves|Fri, Apr 9, 2021|145|136\n",
      "W|Denver Nuggets|Sun, Apr 11, 2021|105|87\n",
      "W|Portland Trail Blazers|Tue, Apr 13, 2021|116|115\n"
     ]
    }
   ],
   "source": [
    "n_starters = 5\n",
    "print(bballutils.pandas2md(\n",
    "    table[table['NumStarters'] >= n_starters]\n",
    "        [['Result','Opponent','Date','Tm','Opp']]\n",
    "        .astype({'Tm': 'int32','Opp': 'int32'})\n",
    "))"
   ]
  },
  {
   "cell_type": "code",
   "execution_count": 14,
   "metadata": {},
   "outputs": [],
   "source": [
    "results = np.empty(len(table))\n",
    "differential = np.empty(len(table))\n",
    "for i,j in table.iterrows():\n",
    "    game = int(j['G'])-1\n",
    "    results[game] = 1 if j['Result'] == 'W' else 0\n",
    "    differential[game] = j['Tm'] - j['Opp']"
   ]
  },
  {
   "cell_type": "code",
   "execution_count": 15,
   "metadata": {},
   "outputs": [
    {
     "name": "stdout",
     "output_type": "stream",
     "text": [
      "total wins = 33\n"
     ]
    }
   ],
   "source": [
    "print('total wins = {:.0f}'.format(results.sum()))"
   ]
  },
  {
   "cell_type": "code",
   "execution_count": 16,
   "metadata": {},
   "outputs": [
    {
     "name": "stdout",
     "output_type": "stream",
     "text": [
      "     G               Date       Opponent Result     Tm   Opp\n",
      "10  11  Fri, Jan 15, 2021  Orlando Magic      W  124.0  97.0\n"
     ]
    }
   ],
   "source": [
    "win_by_start = np.zeros(6)\n",
    "games_by_start = np.zeros(6)\n",
    "diff_by_start = np.zeros(6)\n",
    "\n",
    "for idx, (nstarters, win, diff) in enumerate(zip(all_games, results, differential), start=1):\n",
    "    win_by_start[nstarters] += win\n",
    "    games_by_start[nstarters] += 1\n",
    "    diff_by_start[nstarters] += diff\n",
    "    if nstarters == 2 and win > 0:\n",
    "        print(table.loc[table['G'] == idx,['G','Date','Opponent','Result','Tm','Opp']])\n",
    "\n",
    "# win_by_start[4] += win_by_start[5]\n",
    "# games_by_start[4] += games_by_start[5]\n",
    "# diff_by_start[4] += diff_by_start[5]"
   ]
  },
  {
   "cell_type": "code",
   "execution_count": 17,
   "metadata": {},
   "outputs": [
    {
     "name": "stdout",
     "output_type": "stream",
     "text": [
      "2: 1-4 0.200 1.2\n",
      "3: 8-8 0.500 -2.6\n",
      "4: 16-11 0.593 2.5\n",
      "5: 8-7 0.533 5.1\n"
     ]
    }
   ],
   "source": [
    "for i, (w,g,d) in enumerate( zip(win_by_start, games_by_start, diff_by_start) ):\n",
    "    l = g-w\n",
    "    if g > 0:\n",
    "        print('{}: {}-{} {:.03f} {:.01f}'.format(i,int(w),int(l),w/g,d/g))"
   ]
  },
  {
   "cell_type": "markdown",
   "metadata": {},
   "source": [
    "# SRS"
   ]
  },
  {
   "cell_type": "code",
   "execution_count": 18,
   "metadata": {},
   "outputs": [],
   "source": [
    "# Load all games\n",
    "#\n",
    "# Note the months list!!\n",
    "#\n",
    "games_df = srs.load_games(2021, ['december','january','february','march','april'])"
   ]
  },
  {
   "cell_type": "code",
   "execution_count": 19,
   "metadata": {},
   "outputs": [
    {
     "data": {
      "text/plain": [
       "array([ 2,  8, 10, 11, 12, 13, 20, 21, 22, 24, 25, 28, 32, 34, 43, 57, 58,\n",
       "       59, 60, 62, 63])"
      ]
     },
     "execution_count": 19,
     "metadata": {},
     "output_type": "execute_result"
    }
   ],
   "source": [
    "# split_match = all_games <= 4\n",
    "split_match = all_games <= 3\n",
    "# split_match = all_games <= 2\n",
    "split_games = table[:len(all_games)][split_match]['G'].values\n",
    "split_games"
   ]
  },
  {
   "cell_type": "code",
   "execution_count": 20,
   "metadata": {},
   "outputs": [
    {
     "data": {
      "text/html": [
       "<style  type=\"text/css\" >\n",
       "</style>  \n",
       "<table id=\"T_a8b9e074_a907_11eb_a827_9801a7a59cf7\" > \n",
       "<thead>    <tr> \n",
       "        <th class=\"blank level0\" ></th> \n",
       "        <th class=\"col_heading level0 col0\" >srs_hospital</th> \n",
       "        <th class=\"col_heading level0 col1\" >rank_hospital</th> \n",
       "        <th class=\"col_heading level0 col2\" >srs</th> \n",
       "        <th class=\"col_heading level0 col3\" >rank</th> \n",
       "    </tr></thead> \n",
       "<tbody>    <tr> \n",
       "        <th id=\"T_a8b9e074_a907_11eb_a827_9801a7a59cf7level0_row0\" class=\"row_heading level0 row0\" >Utah Jazz</th> \n",
       "        <td id=\"T_a8b9e074_a907_11eb_a827_9801a7a59cf7row0_col0\" class=\"data row0 col0\" >9.50</td> \n",
       "        <td id=\"T_a8b9e074_a907_11eb_a827_9801a7a59cf7row0_col1\" class=\"data row0 col1\" >1</td> \n",
       "        <td id=\"T_a8b9e074_a907_11eb_a827_9801a7a59cf7row0_col2\" class=\"data row0 col2\" >9.45</td> \n",
       "        <td id=\"T_a8b9e074_a907_11eb_a827_9801a7a59cf7row0_col3\" class=\"data row0 col3\" >1</td> \n",
       "    </tr>    <tr> \n",
       "        <th id=\"T_a8b9e074_a907_11eb_a827_9801a7a59cf7level0_row1\" class=\"row_heading level0 row1\" >Milwaukee Bucks</th> \n",
       "        <td id=\"T_a8b9e074_a907_11eb_a827_9801a7a59cf7row1_col0\" class=\"data row1 col0\" >6.54</td> \n",
       "        <td id=\"T_a8b9e074_a907_11eb_a827_9801a7a59cf7row1_col1\" class=\"data row1 col1\" >2</td> \n",
       "        <td id=\"T_a8b9e074_a907_11eb_a827_9801a7a59cf7row1_col2\" class=\"data row1 col2\" >6.47</td> \n",
       "        <td id=\"T_a8b9e074_a907_11eb_a827_9801a7a59cf7row1_col3\" class=\"data row1 col3\" >2</td> \n",
       "    </tr>    <tr> \n",
       "        <th id=\"T_a8b9e074_a907_11eb_a827_9801a7a59cf7level0_row2\" class=\"row_heading level0 row2\" >Los Angeles Clippers</th> \n",
       "        <td id=\"T_a8b9e074_a907_11eb_a827_9801a7a59cf7row2_col0\" class=\"data row2 col0\" >6.10</td> \n",
       "        <td id=\"T_a8b9e074_a907_11eb_a827_9801a7a59cf7row2_col1\" class=\"data row2 col1\" >3</td> \n",
       "        <td id=\"T_a8b9e074_a907_11eb_a827_9801a7a59cf7row2_col2\" class=\"data row2 col2\" >6.12</td> \n",
       "        <td id=\"T_a8b9e074_a907_11eb_a827_9801a7a59cf7row2_col3\" class=\"data row2 col3\" >3</td> \n",
       "    </tr>    <tr> \n",
       "        <th id=\"T_a8b9e074_a907_11eb_a827_9801a7a59cf7level0_row3\" class=\"row_heading level0 row3\" >Phoenix Suns</th> \n",
       "        <td id=\"T_a8b9e074_a907_11eb_a827_9801a7a59cf7row3_col0\" class=\"data row3 col0\" >5.64</td> \n",
       "        <td id=\"T_a8b9e074_a907_11eb_a827_9801a7a59cf7row3_col1\" class=\"data row3 col1\" >4</td> \n",
       "        <td id=\"T_a8b9e074_a907_11eb_a827_9801a7a59cf7row3_col2\" class=\"data row3 col2\" >5.75</td> \n",
       "        <td id=\"T_a8b9e074_a907_11eb_a827_9801a7a59cf7row3_col3\" class=\"data row3 col3\" >4</td> \n",
       "    </tr>    <tr> \n",
       "        <th id=\"T_a8b9e074_a907_11eb_a827_9801a7a59cf7level0_row4\" class=\"row_heading level0 row4\" >Philadelphia 76ers</th> \n",
       "        <td id=\"T_a8b9e074_a907_11eb_a827_9801a7a59cf7row4_col0\" class=\"data row4 col0\" >5.22</td> \n",
       "        <td id=\"T_a8b9e074_a907_11eb_a827_9801a7a59cf7row4_col1\" class=\"data row4 col1\" >5</td> \n",
       "        <td id=\"T_a8b9e074_a907_11eb_a827_9801a7a59cf7row4_col2\" class=\"data row4 col2\" >5.23</td> \n",
       "        <td id=\"T_a8b9e074_a907_11eb_a827_9801a7a59cf7row4_col3\" class=\"data row4 col3\" >5</td> \n",
       "    </tr>    <tr> \n",
       "        <th id=\"T_a8b9e074_a907_11eb_a827_9801a7a59cf7level0_row5\" class=\"row_heading level0 row5\" >Denver Nuggets</th> \n",
       "        <td id=\"T_a8b9e074_a907_11eb_a827_9801a7a59cf7row5_col0\" class=\"data row5 col0\" >4.95</td> \n",
       "        <td id=\"T_a8b9e074_a907_11eb_a827_9801a7a59cf7row5_col1\" class=\"data row5 col1\" >6</td> \n",
       "        <td id=\"T_a8b9e074_a907_11eb_a827_9801a7a59cf7row5_col2\" class=\"data row5 col2\" >4.89</td> \n",
       "        <td id=\"T_a8b9e074_a907_11eb_a827_9801a7a59cf7row5_col3\" class=\"data row5 col3\" >6</td> \n",
       "    </tr>    <tr> \n",
       "        <th id=\"T_a8b9e074_a907_11eb_a827_9801a7a59cf7level0_row6\" class=\"row_heading level0 row6\" >Brooklyn Nets</th> \n",
       "        <td id=\"T_a8b9e074_a907_11eb_a827_9801a7a59cf7row6_col0\" class=\"data row6 col0\" >4.09</td> \n",
       "        <td id=\"T_a8b9e074_a907_11eb_a827_9801a7a59cf7row6_col1\" class=\"data row6 col1\" >7</td> \n",
       "        <td id=\"T_a8b9e074_a907_11eb_a827_9801a7a59cf7row6_col2\" class=\"data row6 col2\" >4.19</td> \n",
       "        <td id=\"T_a8b9e074_a907_11eb_a827_9801a7a59cf7row6_col3\" class=\"data row6 col3\" >7</td> \n",
       "    </tr>    <tr> \n",
       "        <th id=\"T_a8b9e074_a907_11eb_a827_9801a7a59cf7level0_row7\" class=\"row_heading level0 row7\" >Boston Celtics</th> \n",
       "        <td id=\"T_a8b9e074_a907_11eb_a827_9801a7a59cf7row7_col0\" class=\"data row7 col0\" >3.68</td> \n",
       "        <td id=\"T_a8b9e074_a907_11eb_a827_9801a7a59cf7row7_col1\" class=\"data row7 col1\" >8</td> \n",
       "        <td id=\"T_a8b9e074_a907_11eb_a827_9801a7a59cf7row7_col2\" class=\"data row7 col2\" >1.93</td> \n",
       "        <td id=\"T_a8b9e074_a907_11eb_a827_9801a7a59cf7row7_col3\" class=\"data row7 col3\" >11</td> \n",
       "    </tr>    <tr> \n",
       "        <th id=\"T_a8b9e074_a907_11eb_a827_9801a7a59cf7level0_row8\" class=\"row_heading level0 row8\" >Los Angeles Lakers</th> \n",
       "        <td id=\"T_a8b9e074_a907_11eb_a827_9801a7a59cf7row8_col0\" class=\"data row8 col0\" >3.11</td> \n",
       "        <td id=\"T_a8b9e074_a907_11eb_a827_9801a7a59cf7row8_col1\" class=\"data row8 col1\" >9</td> \n",
       "        <td id=\"T_a8b9e074_a907_11eb_a827_9801a7a59cf7row8_col2\" class=\"data row8 col2\" >3.06</td> \n",
       "        <td id=\"T_a8b9e074_a907_11eb_a827_9801a7a59cf7row8_col3\" class=\"data row8 col3\" >8</td> \n",
       "    </tr>    <tr> \n",
       "        <th id=\"T_a8b9e074_a907_11eb_a827_9801a7a59cf7level0_row9\" class=\"row_heading level0 row9\" >Dallas Mavericks</th> \n",
       "        <td id=\"T_a8b9e074_a907_11eb_a827_9801a7a59cf7row9_col0\" class=\"data row9 col0\" >2.43</td> \n",
       "        <td id=\"T_a8b9e074_a907_11eb_a827_9801a7a59cf7row9_col1\" class=\"data row9 col1\" >10</td> \n",
       "        <td id=\"T_a8b9e074_a907_11eb_a827_9801a7a59cf7row9_col2\" class=\"data row9 col2\" >2.37</td> \n",
       "        <td id=\"T_a8b9e074_a907_11eb_a827_9801a7a59cf7row9_col3\" class=\"data row9 col3\" >9</td> \n",
       "    </tr>    <tr> \n",
       "        <th id=\"T_a8b9e074_a907_11eb_a827_9801a7a59cf7level0_row10\" class=\"row_heading level0 row10\" >New York Knicks</th> \n",
       "        <td id=\"T_a8b9e074_a907_11eb_a827_9801a7a59cf7row10_col0\" class=\"data row10 col0\" >1.89</td> \n",
       "        <td id=\"T_a8b9e074_a907_11eb_a827_9801a7a59cf7row10_col1\" class=\"data row10 col1\" >11</td> \n",
       "        <td id=\"T_a8b9e074_a907_11eb_a827_9801a7a59cf7row10_col2\" class=\"data row10 col2\" >1.93</td> \n",
       "        <td id=\"T_a8b9e074_a907_11eb_a827_9801a7a59cf7row10_col3\" class=\"data row10 col3\" >10</td> \n",
       "    </tr>    <tr> \n",
       "        <th id=\"T_a8b9e074_a907_11eb_a827_9801a7a59cf7level0_row11\" class=\"row_heading level0 row11\" >Atlanta Hawks</th> \n",
       "        <td id=\"T_a8b9e074_a907_11eb_a827_9801a7a59cf7row11_col0\" class=\"data row11 col0\" >1.36</td> \n",
       "        <td id=\"T_a8b9e074_a907_11eb_a827_9801a7a59cf7row11_col1\" class=\"data row11 col1\" >12</td> \n",
       "        <td id=\"T_a8b9e074_a907_11eb_a827_9801a7a59cf7row11_col2\" class=\"data row11 col2\" >1.44</td> \n",
       "        <td id=\"T_a8b9e074_a907_11eb_a827_9801a7a59cf7row11_col3\" class=\"data row11 col3\" >12</td> \n",
       "    </tr>    <tr> \n",
       "        <th id=\"T_a8b9e074_a907_11eb_a827_9801a7a59cf7level0_row12\" class=\"row_heading level0 row12\" >Memphis Grizzlies</th> \n",
       "        <td id=\"T_a8b9e074_a907_11eb_a827_9801a7a59cf7row12_col0\" class=\"data row12 col0\" >1.20</td> \n",
       "        <td id=\"T_a8b9e074_a907_11eb_a827_9801a7a59cf7row12_col1\" class=\"data row12 col1\" >13</td> \n",
       "        <td id=\"T_a8b9e074_a907_11eb_a827_9801a7a59cf7row12_col2\" class=\"data row12 col2\" >1.22</td> \n",
       "        <td id=\"T_a8b9e074_a907_11eb_a827_9801a7a59cf7row12_col3\" class=\"data row12 col3\" >13</td> \n",
       "    </tr>    <tr> \n",
       "        <th id=\"T_a8b9e074_a907_11eb_a827_9801a7a59cf7level0_row13\" class=\"row_heading level0 row13\" >New Orleans Pelicans</th> \n",
       "        <td id=\"T_a8b9e074_a907_11eb_a827_9801a7a59cf7row13_col0\" class=\"data row13 col0\" >0.34</td> \n",
       "        <td id=\"T_a8b9e074_a907_11eb_a827_9801a7a59cf7row13_col1\" class=\"data row13 col1\" >14</td> \n",
       "        <td id=\"T_a8b9e074_a907_11eb_a827_9801a7a59cf7row13_col2\" class=\"data row13 col2\" >0.29</td> \n",
       "        <td id=\"T_a8b9e074_a907_11eb_a827_9801a7a59cf7row13_col3\" class=\"data row13 col3\" >14</td> \n",
       "    </tr>    <tr> \n",
       "        <th id=\"T_a8b9e074_a907_11eb_a827_9801a7a59cf7level0_row14\" class=\"row_heading level0 row14\" >Portland Trail Blazers</th> \n",
       "        <td id=\"T_a8b9e074_a907_11eb_a827_9801a7a59cf7row14_col0\" class=\"data row14 col0\" >0.06</td> \n",
       "        <td id=\"T_a8b9e074_a907_11eb_a827_9801a7a59cf7row14_col1\" class=\"data row14 col1\" >15</td> \n",
       "        <td id=\"T_a8b9e074_a907_11eb_a827_9801a7a59cf7row14_col2\" class=\"data row14 col2\" >0.04</td> \n",
       "        <td id=\"T_a8b9e074_a907_11eb_a827_9801a7a59cf7row14_col3\" class=\"data row14 col3\" >16</td> \n",
       "    </tr>    <tr> \n",
       "        <th id=\"T_a8b9e074_a907_11eb_a827_9801a7a59cf7level0_row15\" class=\"row_heading level0 row15\" >Toronto Raptors</th> \n",
       "        <td id=\"T_a8b9e074_a907_11eb_a827_9801a7a59cf7row15_col0\" class=\"data row15 col0\" >-0.02</td> \n",
       "        <td id=\"T_a8b9e074_a907_11eb_a827_9801a7a59cf7row15_col1\" class=\"data row15 col1\" >16</td> \n",
       "        <td id=\"T_a8b9e074_a907_11eb_a827_9801a7a59cf7row15_col2\" class=\"data row15 col2\" >0.07</td> \n",
       "        <td id=\"T_a8b9e074_a907_11eb_a827_9801a7a59cf7row15_col3\" class=\"data row15 col3\" >15</td> \n",
       "    </tr>    <tr> \n",
       "        <th id=\"T_a8b9e074_a907_11eb_a827_9801a7a59cf7level0_row16\" class=\"row_heading level0 row16\" >Golden State Warriors</th> \n",
       "        <td id=\"T_a8b9e074_a907_11eb_a827_9801a7a59cf7row16_col0\" class=\"data row16 col0\" >-0.23</td> \n",
       "        <td id=\"T_a8b9e074_a907_11eb_a827_9801a7a59cf7row16_col1\" class=\"data row16 col1\" >17</td> \n",
       "        <td id=\"T_a8b9e074_a907_11eb_a827_9801a7a59cf7row16_col2\" class=\"data row16 col2\" >-0.20</td> \n",
       "        <td id=\"T_a8b9e074_a907_11eb_a827_9801a7a59cf7row16_col3\" class=\"data row16 col3\" >17</td> \n",
       "    </tr>    <tr> \n",
       "        <th id=\"T_a8b9e074_a907_11eb_a827_9801a7a59cf7level0_row17\" class=\"row_heading level0 row17\" >Indiana Pacers</th> \n",
       "        <td id=\"T_a8b9e074_a907_11eb_a827_9801a7a59cf7row17_col0\" class=\"data row17 col0\" >-0.52</td> \n",
       "        <td id=\"T_a8b9e074_a907_11eb_a827_9801a7a59cf7row17_col1\" class=\"data row17 col1\" >18</td> \n",
       "        <td id=\"T_a8b9e074_a907_11eb_a827_9801a7a59cf7row17_col2\" class=\"data row17 col2\" >-0.60</td> \n",
       "        <td id=\"T_a8b9e074_a907_11eb_a827_9801a7a59cf7row17_col3\" class=\"data row17 col3\" >18</td> \n",
       "    </tr>    <tr> \n",
       "        <th id=\"T_a8b9e074_a907_11eb_a827_9801a7a59cf7level0_row18\" class=\"row_heading level0 row18\" >Miami Heat</th> \n",
       "        <td id=\"T_a8b9e074_a907_11eb_a827_9801a7a59cf7row18_col0\" class=\"data row18 col0\" >-0.73</td> \n",
       "        <td id=\"T_a8b9e074_a907_11eb_a827_9801a7a59cf7row18_col1\" class=\"data row18 col1\" >19</td> \n",
       "        <td id=\"T_a8b9e074_a907_11eb_a827_9801a7a59cf7row18_col2\" class=\"data row18 col2\" >-0.75</td> \n",
       "        <td id=\"T_a8b9e074_a907_11eb_a827_9801a7a59cf7row18_col3\" class=\"data row18 col3\" >19</td> \n",
       "    </tr>    <tr> \n",
       "        <th id=\"T_a8b9e074_a907_11eb_a827_9801a7a59cf7level0_row19\" class=\"row_heading level0 row19\" >San Antonio Spurs</th> \n",
       "        <td id=\"T_a8b9e074_a907_11eb_a827_9801a7a59cf7row19_col0\" class=\"data row19 col0\" >-1.08</td> \n",
       "        <td id=\"T_a8b9e074_a907_11eb_a827_9801a7a59cf7row19_col1\" class=\"data row19 col1\" >20</td> \n",
       "        <td id=\"T_a8b9e074_a907_11eb_a827_9801a7a59cf7row19_col2\" class=\"data row19 col2\" >-1.11</td> \n",
       "        <td id=\"T_a8b9e074_a907_11eb_a827_9801a7a59cf7row19_col3\" class=\"data row19 col3\" >20</td> \n",
       "    </tr>    <tr> \n",
       "        <th id=\"T_a8b9e074_a907_11eb_a827_9801a7a59cf7level0_row20\" class=\"row_heading level0 row20\" >Charlotte Hornets</th> \n",
       "        <td id=\"T_a8b9e074_a907_11eb_a827_9801a7a59cf7row20_col0\" class=\"data row20 col0\" >-1.35</td> \n",
       "        <td id=\"T_a8b9e074_a907_11eb_a827_9801a7a59cf7row20_col1\" class=\"data row20 col1\" >21</td> \n",
       "        <td id=\"T_a8b9e074_a907_11eb_a827_9801a7a59cf7row20_col2\" class=\"data row20 col2\" >-1.34</td> \n",
       "        <td id=\"T_a8b9e074_a907_11eb_a827_9801a7a59cf7row20_col3\" class=\"data row20 col3\" >21</td> \n",
       "    </tr>    <tr> \n",
       "        <th id=\"T_a8b9e074_a907_11eb_a827_9801a7a59cf7level0_row21\" class=\"row_heading level0 row21\" >Hospital Celtics</th> \n",
       "        <td id=\"T_a8b9e074_a907_11eb_a827_9801a7a59cf7row21_col0\" class=\"data row21 col0\" >-1.61</td> \n",
       "        <td id=\"T_a8b9e074_a907_11eb_a827_9801a7a59cf7row21_col1\" class=\"data row21 col1\" >22</td> \n",
       "        <td id=\"T_a8b9e074_a907_11eb_a827_9801a7a59cf7row21_col2\" class=\"data row21 col2\" >nan</td> \n",
       "        <td id=\"T_a8b9e074_a907_11eb_a827_9801a7a59cf7row21_col3\" class=\"data row21 col3\" >nan</td> \n",
       "    </tr>    <tr> \n",
       "        <th id=\"T_a8b9e074_a907_11eb_a827_9801a7a59cf7level0_row22\" class=\"row_heading level0 row22\" >Chicago Bulls</th> \n",
       "        <td id=\"T_a8b9e074_a907_11eb_a827_9801a7a59cf7row22_col0\" class=\"data row22 col0\" >-1.75</td> \n",
       "        <td id=\"T_a8b9e074_a907_11eb_a827_9801a7a59cf7row22_col1\" class=\"data row22 col1\" >23</td> \n",
       "        <td id=\"T_a8b9e074_a907_11eb_a827_9801a7a59cf7row22_col2\" class=\"data row22 col2\" >-1.72</td> \n",
       "        <td id=\"T_a8b9e074_a907_11eb_a827_9801a7a59cf7row22_col3\" class=\"data row22 col3\" >22</td> \n",
       "    </tr>    <tr> \n",
       "        <th id=\"T_a8b9e074_a907_11eb_a827_9801a7a59cf7level0_row23\" class=\"row_heading level0 row23\" >Washington Wizards</th> \n",
       "        <td id=\"T_a8b9e074_a907_11eb_a827_9801a7a59cf7row23_col0\" class=\"data row23 col0\" >-3.02</td> \n",
       "        <td id=\"T_a8b9e074_a907_11eb_a827_9801a7a59cf7row23_col1\" class=\"data row23 col1\" >24</td> \n",
       "        <td id=\"T_a8b9e074_a907_11eb_a827_9801a7a59cf7row23_col2\" class=\"data row23 col2\" >-2.92</td> \n",
       "        <td id=\"T_a8b9e074_a907_11eb_a827_9801a7a59cf7row23_col3\" class=\"data row23 col3\" >23</td> \n",
       "    </tr>    <tr> \n",
       "        <th id=\"T_a8b9e074_a907_11eb_a827_9801a7a59cf7level0_row24\" class=\"row_heading level0 row24\" >Detroit Pistons</th> \n",
       "        <td id=\"T_a8b9e074_a907_11eb_a827_9801a7a59cf7row24_col0\" class=\"data row24 col0\" >-3.56</td> \n",
       "        <td id=\"T_a8b9e074_a907_11eb_a827_9801a7a59cf7row24_col1\" class=\"data row24 col1\" >25</td> \n",
       "        <td id=\"T_a8b9e074_a907_11eb_a827_9801a7a59cf7row24_col2\" class=\"data row24 col2\" >-3.55</td> \n",
       "        <td id=\"T_a8b9e074_a907_11eb_a827_9801a7a59cf7row24_col3\" class=\"data row24 col3\" >24</td> \n",
       "    </tr>    <tr> \n",
       "        <th id=\"T_a8b9e074_a907_11eb_a827_9801a7a59cf7level0_row25\" class=\"row_heading level0 row25\" >Sacramento Kings</th> \n",
       "        <td id=\"T_a8b9e074_a907_11eb_a827_9801a7a59cf7row25_col0\" class=\"data row25 col0\" >-4.44</td> \n",
       "        <td id=\"T_a8b9e074_a907_11eb_a827_9801a7a59cf7row25_col1\" class=\"data row25 col1\" >26</td> \n",
       "        <td id=\"T_a8b9e074_a907_11eb_a827_9801a7a59cf7row25_col2\" class=\"data row25 col2\" >-4.41</td> \n",
       "        <td id=\"T_a8b9e074_a907_11eb_a827_9801a7a59cf7row25_col3\" class=\"data row25 col3\" >25</td> \n",
       "    </tr>    <tr> \n",
       "        <th id=\"T_a8b9e074_a907_11eb_a827_9801a7a59cf7level0_row26\" class=\"row_heading level0 row26\" >Minnesota Timberwolves</th> \n",
       "        <td id=\"T_a8b9e074_a907_11eb_a827_9801a7a59cf7row26_col0\" class=\"data row26 col0\" >-6.45</td> \n",
       "        <td id=\"T_a8b9e074_a907_11eb_a827_9801a7a59cf7row26_col1\" class=\"data row26 col1\" >27</td> \n",
       "        <td id=\"T_a8b9e074_a907_11eb_a827_9801a7a59cf7row26_col2\" class=\"data row26 col2\" >-6.48</td> \n",
       "        <td id=\"T_a8b9e074_a907_11eb_a827_9801a7a59cf7row26_col3\" class=\"data row26 col3\" >26</td> \n",
       "    </tr>    <tr> \n",
       "        <th id=\"T_a8b9e074_a907_11eb_a827_9801a7a59cf7level0_row27\" class=\"row_heading level0 row27\" >Cleveland Cavaliers</th> \n",
       "        <td id=\"T_a8b9e074_a907_11eb_a827_9801a7a59cf7row27_col0\" class=\"data row27 col0\" >-6.83</td> \n",
       "        <td id=\"T_a8b9e074_a907_11eb_a827_9801a7a59cf7row27_col1\" class=\"data row27 col1\" >28</td> \n",
       "        <td id=\"T_a8b9e074_a907_11eb_a827_9801a7a59cf7row27_col2\" class=\"data row27 col2\" >-6.88</td> \n",
       "        <td id=\"T_a8b9e074_a907_11eb_a827_9801a7a59cf7row27_col3\" class=\"data row27 col3\" >27</td> \n",
       "    </tr>    <tr> \n",
       "        <th id=\"T_a8b9e074_a907_11eb_a827_9801a7a59cf7level0_row28\" class=\"row_heading level0 row28\" >Houston Rockets</th> \n",
       "        <td id=\"T_a8b9e074_a907_11eb_a827_9801a7a59cf7row28_col0\" class=\"data row28 col0\" >-7.48</td> \n",
       "        <td id=\"T_a8b9e074_a907_11eb_a827_9801a7a59cf7row28_col1\" class=\"data row28 col1\" >29</td> \n",
       "        <td id=\"T_a8b9e074_a907_11eb_a827_9801a7a59cf7row28_col2\" class=\"data row28 col2\" >-7.53</td> \n",
       "        <td id=\"T_a8b9e074_a907_11eb_a827_9801a7a59cf7row28_col3\" class=\"data row28 col3\" >28</td> \n",
       "    </tr>    <tr> \n",
       "        <th id=\"T_a8b9e074_a907_11eb_a827_9801a7a59cf7level0_row29\" class=\"row_heading level0 row29\" >Orlando Magic</th> \n",
       "        <td id=\"T_a8b9e074_a907_11eb_a827_9801a7a59cf7row29_col0\" class=\"data row29 col0\" >-8.16</td> \n",
       "        <td id=\"T_a8b9e074_a907_11eb_a827_9801a7a59cf7row29_col1\" class=\"data row29 col1\" >30</td> \n",
       "        <td id=\"T_a8b9e074_a907_11eb_a827_9801a7a59cf7row29_col2\" class=\"data row29 col2\" >-8.12</td> \n",
       "        <td id=\"T_a8b9e074_a907_11eb_a827_9801a7a59cf7row29_col3\" class=\"data row29 col3\" >29</td> \n",
       "    </tr>    <tr> \n",
       "        <th id=\"T_a8b9e074_a907_11eb_a827_9801a7a59cf7level0_row30\" class=\"row_heading level0 row30\" >Oklahoma City Thunder</th> \n",
       "        <td id=\"T_a8b9e074_a907_11eb_a827_9801a7a59cf7row30_col0\" class=\"data row30 col0\" >-8.89</td> \n",
       "        <td id=\"T_a8b9e074_a907_11eb_a827_9801a7a59cf7row30_col1\" class=\"data row30 col1\" >31</td> \n",
       "        <td id=\"T_a8b9e074_a907_11eb_a827_9801a7a59cf7row30_col2\" class=\"data row30 col2\" >-8.86</td> \n",
       "        <td id=\"T_a8b9e074_a907_11eb_a827_9801a7a59cf7row30_col3\" class=\"data row30 col3\" >30</td> \n",
       "    </tr></tbody> \n",
       "</table> "
      ],
      "text/plain": [
       "<pandas.io.formats.style.Styler at 0x7fb6d6b61eb8>"
      ]
     },
     "execution_count": 20,
     "metadata": {},
     "output_type": "execute_result"
    }
   ],
   "source": [
    "hosp_games_df = srs.split_team(games_df, srs.BOS, split_games, 'Hospital Celtics')\n",
    "\n",
    "a = srs.get_srs(hosp_games_df)\n",
    "a['rank'] = np.arange(len(a))+1\n",
    "\n",
    "b = srs.get_srs(games_df)\n",
    "b['rank'] = np.arange(len(b))+1\n",
    "\n",
    "srs_df = a.join(b, how='outer', lsuffix='_hospital').sort_values(by='srs_hospital',ascending=False)\n",
    "\n",
    "srs_df.style.format({'srs_hospital': '{:.2f}', \n",
    "                     'srs':'{:.2f}',\n",
    "                     'rank_hospital': '{:.0f}',\n",
    "                     'rank': '{:.0f}'})"
   ]
  },
  {
   "cell_type": "code",
   "execution_count": null,
   "metadata": {},
   "outputs": [],
   "source": []
  }
 ],
 "metadata": {
  "kernelspec": {
   "display_name": "Python 3",
   "language": "python",
   "name": "python3"
  },
  "language_info": {
   "codemirror_mode": {
    "name": "ipython",
    "version": 3
   },
   "file_extension": ".py",
   "mimetype": "text/x-python",
   "name": "python",
   "nbconvert_exporter": "python",
   "pygments_lexer": "ipython3",
   "version": "3.7.0"
  }
 },
 "nbformat": 4,
 "nbformat_minor": 2
}
