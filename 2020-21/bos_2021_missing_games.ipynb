{
 "cells": [
  {
   "cell_type": "code",
   "execution_count": 2,
   "metadata": {},
   "outputs": [],
   "source": [
    "import numpy as np\n",
    "\n",
    "import sys\n",
    "sys.path.insert(0,'..')\n",
    "\n",
    "import souploader\n",
    "\n",
    "import pandas as pd"
   ]
  },
  {
   "cell_type": "code",
   "execution_count": 32,
   "metadata": {},
   "outputs": [],
   "source": [
    "from collections import defaultdict"
   ]
  },
  {
   "cell_type": "code",
   "execution_count": 82,
   "metadata": {},
   "outputs": [],
   "source": [
    "import srs"
   ]
  },
  {
   "cell_type": "code",
   "execution_count": 5,
   "metadata": {},
   "outputs": [],
   "source": [
    "num_games = 62\n",
    "missing = {\n",
    "'jt': [11,12,13,14,15,43,62],\n",
    "'jb': [21,22,34,47,57,59,60],\n",
    "'ms': [8] + list(range(19,37)) + [58],\n",
    "'kw': list(range(1,12)) + [16,20,25,28,32,40,43,46,52,58,60,62],\n",
    "'rw': [2,10,11,12,13,24,25,48] + list(range(56,63)),\n",
    "}"
   ]
  },
  {
   "cell_type": "code",
   "execution_count": 6,
   "metadata": {},
   "outputs": [
    {
     "data": {
      "text/plain": [
       "array([4, 3, 4, 4, 4, 4, 4, 3, 4, 3, 2, 3, 3, 4, 4, 4, 5, 5, 4, 3, 3, 3,\n",
       "       4, 3, 2, 4, 4, 3, 4, 4, 4, 3, 4, 3, 4, 4, 5, 5, 5, 4, 5, 5, 3, 5,\n",
       "       5, 4, 4, 4, 5, 5, 5, 4, 5, 5, 5, 4, 3, 2, 3, 2, 4, 2])"
      ]
     },
     "execution_count": 6,
     "metadata": {},
     "output_type": "execute_result"
    }
   ],
   "source": [
    "all_games = np.full(num_games, 5)\n",
    "\n",
    "for i in missing.values():\n",
    "    for j in i:\n",
    "        game = j-1\n",
    "        \n",
    "        all_games[game] -= 1\n",
    "all_games"
   ]
  },
  {
   "cell_type": "markdown",
   "metadata": {},
   "source": [
    "# load game results"
   ]
  },
  {
   "cell_type": "code",
   "execution_count": 87,
   "metadata": {},
   "outputs": [],
   "source": [
    "# Load all games\n",
    "#\n",
    "# Note the months list!!\n",
    "#\n",
    "games_df = srs.load_games(2021, ['december','january','february','march','april'])"
   ]
  },
  {
   "cell_type": "code",
   "execution_count": 92,
   "metadata": {},
   "outputs": [],
   "source": [
    "# Load just boston games\n",
    "soup = souploader.load_soup('https://www.basketball-reference.com/teams/BOS/2021_games.html')\n",
    "\n",
    "table = souploader.soup_get_table_as_pandas(soup, id='games')\n",
    "\n",
    "table = table[table['Opponent'] != 'Opponent']\n",
    "\n",
    "table = table.rename(columns={'Unnamed: 7': 'Result'})\n",
    "\n",
    "table['G'] = pd.to_numeric(table['G'])\n",
    "\n",
    "table['Tm'] = pd.to_numeric(table['Tm'])\n",
    "table['Opp'] = pd.to_numeric(table['Opp'])"
   ]
  },
  {
   "cell_type": "code",
   "execution_count": 69,
   "metadata": {},
   "outputs": [],
   "source": [
    "results = np.empty(len(table))\n",
    "differential = np.empty(len(table))\n",
    "for i,j in table.iterrows():\n",
    "    game = int(j['G'])-1\n",
    "    results[game] = 1 if j['Result'] == 'W' else 0\n",
    "    differential[game] = j['Tm'] - j['Opp']"
   ]
  },
  {
   "cell_type": "code",
   "execution_count": 75,
   "metadata": {},
   "outputs": [
    {
     "name": "stdout",
     "output_type": "stream",
     "text": [
      "     G               Date       Opponent Result     Tm   Opp\n",
      "10  11  Fri, Jan 15, 2021  Orlando Magic      W  124.0  97.0\n"
     ]
    }
   ],
   "source": [
    "win_by_start = np.zeros(6)\n",
    "games_by_start = np.zeros(6)\n",
    "diff_by_start = np.zeros(6)\n",
    "\n",
    "for idx, (nstarters, win, diff) in enumerate(zip(all_games, results, differential), start=1):\n",
    "    win_by_start[nstarters] += win\n",
    "    games_by_start[nstarters] += 1\n",
    "    diff_by_start[nstarters] += diff\n",
    "    if nstarters == 2 and win > 0:\n",
    "        print(table.loc[table['G'] == idx,['G','Date','Opponent','Result','Tm','Opp']])\n",
    "\n",
    "# win_by_start[4] += win_by_start[5]\n",
    "# games_by_start[4] += games_by_start[5]\n",
    "# diff_by_start[4] += diff_by_start[5]"
   ]
  },
  {
   "cell_type": "code",
   "execution_count": 76,
   "metadata": {},
   "outputs": [
    {
     "name": "stdout",
     "output_type": "stream",
     "text": [
      "2: 1-4 0.200 1.2\n",
      "3: 7-8 0.467 -3.4\n",
      "4: 16-11 0.593 2.5\n",
      "5: 8-7 0.533 5.1\n"
     ]
    }
   ],
   "source": [
    "for i, (w,g,d) in enumerate( zip(win_by_start, games_by_start, diff_by_start) ):\n",
    "    l = g-w\n",
    "    if g > 0:\n",
    "        print('{}: {}-{} {:.03f} {:.01f}'.format(i,int(w),int(l),w/g,d/g))"
   ]
  },
  {
   "cell_type": "code",
   "execution_count": 65,
   "metadata": {},
   "outputs": [
    {
     "data": {
      "text/plain": [
       "'46.8'"
      ]
     },
     "execution_count": 65,
     "metadata": {},
     "output_type": "execute_result"
    }
   ],
   "source": [
    "'{:.01f}'.format(.571*82)"
   ]
  },
  {
   "cell_type": "markdown",
   "metadata": {},
   "source": [
    "# SRS"
   ]
  },
  {
   "cell_type": "code",
   "execution_count": 104,
   "metadata": {},
   "outputs": [],
   "source": [
    "missing = table[:len(all_games)][all_games <= 3]['G'].values"
   ]
  },
  {
   "cell_type": "code",
   "execution_count": 105,
   "metadata": {},
   "outputs": [],
   "source": [
    "hosp_games_df = srs.split_team(games_df, 'Boston Celtics', missing, 'Hospital Celtics')"
   ]
  },
  {
   "cell_type": "code",
   "execution_count": 113,
   "metadata": {},
   "outputs": [],
   "source": [
    "a = srs.get_srs(hosp_games_df)\n",
    "a['rank'] = np.arange(len(a))+1"
   ]
  },
  {
   "cell_type": "code",
   "execution_count": 114,
   "metadata": {
    "scrolled": true
   },
   "outputs": [],
   "source": [
    "b = srs.get_srs(games_df)\n",
    "b['rank'] = np.arange(len(b))+1"
   ]
  },
  {
   "cell_type": "code",
   "execution_count": 115,
   "metadata": {},
   "outputs": [],
   "source": [
    "srs_df = a.join(b, how='outer', lsuffix='_hospital').sort_values(by='srs_hospital',ascending=False)"
   ]
  },
  {
   "cell_type": "code",
   "execution_count": 116,
   "metadata": {},
   "outputs": [
    {
     "data": {
      "text/html": [
       "<div>\n",
       "<style scoped>\n",
       "    .dataframe tbody tr th:only-of-type {\n",
       "        vertical-align: middle;\n",
       "    }\n",
       "\n",
       "    .dataframe tbody tr th {\n",
       "        vertical-align: top;\n",
       "    }\n",
       "\n",
       "    .dataframe thead th {\n",
       "        text-align: right;\n",
       "    }\n",
       "</style>\n",
       "<table border=\"1\" class=\"dataframe\">\n",
       "  <thead>\n",
       "    <tr style=\"text-align: right;\">\n",
       "      <th></th>\n",
       "      <th>srs_hospital</th>\n",
       "      <th>rank_hospital</th>\n",
       "      <th>srs</th>\n",
       "      <th>rank</th>\n",
       "    </tr>\n",
       "  </thead>\n",
       "  <tbody>\n",
       "    <tr>\n",
       "      <th>Utah Jazz</th>\n",
       "      <td>8.959173</td>\n",
       "      <td>1</td>\n",
       "      <td>8.890180</td>\n",
       "      <td>1.0</td>\n",
       "    </tr>\n",
       "    <tr>\n",
       "      <th>Milwaukee Bucks</th>\n",
       "      <td>6.551915</td>\n",
       "      <td>2</td>\n",
       "      <td>6.459985</td>\n",
       "      <td>2.0</td>\n",
       "    </tr>\n",
       "    <tr>\n",
       "      <th>Los Angeles Clippers</th>\n",
       "      <td>6.238262</td>\n",
       "      <td>3</td>\n",
       "      <td>6.257541</td>\n",
       "      <td>3.0</td>\n",
       "    </tr>\n",
       "    <tr>\n",
       "      <th>Phoenix Suns</th>\n",
       "      <td>5.511396</td>\n",
       "      <td>4</td>\n",
       "      <td>5.624175</td>\n",
       "      <td>4.0</td>\n",
       "    </tr>\n",
       "    <tr>\n",
       "      <th>Denver Nuggets</th>\n",
       "      <td>5.019958</td>\n",
       "      <td>5</td>\n",
       "      <td>4.953344</td>\n",
       "      <td>5.0</td>\n",
       "    </tr>\n",
       "    <tr>\n",
       "      <th>Philadelphia 76ers</th>\n",
       "      <td>4.578293</td>\n",
       "      <td>6</td>\n",
       "      <td>4.577433</td>\n",
       "      <td>6.0</td>\n",
       "    </tr>\n",
       "    <tr>\n",
       "      <th>Brooklyn Nets</th>\n",
       "      <td>4.080542</td>\n",
       "      <td>7</td>\n",
       "      <td>4.174935</td>\n",
       "      <td>7.0</td>\n",
       "    </tr>\n",
       "    <tr>\n",
       "      <th>Boston Celtics</th>\n",
       "      <td>3.683743</td>\n",
       "      <td>8</td>\n",
       "      <td>1.837519</td>\n",
       "      <td>11.0</td>\n",
       "    </tr>\n",
       "    <tr>\n",
       "      <th>Los Angeles Lakers</th>\n",
       "      <td>3.376560</td>\n",
       "      <td>9</td>\n",
       "      <td>3.307664</td>\n",
       "      <td>8.0</td>\n",
       "    </tr>\n",
       "    <tr>\n",
       "      <th>Dallas Mavericks</th>\n",
       "      <td>2.434808</td>\n",
       "      <td>10</td>\n",
       "      <td>2.365443</td>\n",
       "      <td>9.0</td>\n",
       "    </tr>\n",
       "    <tr>\n",
       "      <th>Atlanta Hawks</th>\n",
       "      <td>2.003743</td>\n",
       "      <td>11</td>\n",
       "      <td>2.087932</td>\n",
       "      <td>10.0</td>\n",
       "    </tr>\n",
       "    <tr>\n",
       "      <th>New York Knicks</th>\n",
       "      <td>1.642594</td>\n",
       "      <td>12</td>\n",
       "      <td>1.671497</td>\n",
       "      <td>12.0</td>\n",
       "    </tr>\n",
       "    <tr>\n",
       "      <th>Memphis Grizzlies</th>\n",
       "      <td>1.556589</td>\n",
       "      <td>13</td>\n",
       "      <td>1.577303</td>\n",
       "      <td>13.0</td>\n",
       "    </tr>\n",
       "    <tr>\n",
       "      <th>New Orleans Pelicans</th>\n",
       "      <td>0.321603</td>\n",
       "      <td>14</td>\n",
       "      <td>0.256339</td>\n",
       "      <td>14.0</td>\n",
       "    </tr>\n",
       "    <tr>\n",
       "      <th>Toronto Raptors</th>\n",
       "      <td>-0.033555</td>\n",
       "      <td>15</td>\n",
       "      <td>0.055957</td>\n",
       "      <td>15.0</td>\n",
       "    </tr>\n",
       "    <tr>\n",
       "      <th>Golden State Warriors</th>\n",
       "      <td>-0.209970</td>\n",
       "      <td>16</td>\n",
       "      <td>-0.186250</td>\n",
       "      <td>16.0</td>\n",
       "    </tr>\n",
       "    <tr>\n",
       "      <th>Portland Trail Blazers</th>\n",
       "      <td>-0.276330</td>\n",
       "      <td>17</td>\n",
       "      <td>-0.314784</td>\n",
       "      <td>17.0</td>\n",
       "    </tr>\n",
       "    <tr>\n",
       "      <th>Indiana Pacers</th>\n",
       "      <td>-0.511518</td>\n",
       "      <td>18</td>\n",
       "      <td>-0.606659</td>\n",
       "      <td>18.0</td>\n",
       "    </tr>\n",
       "    <tr>\n",
       "      <th>Miami Heat</th>\n",
       "      <td>-0.789441</td>\n",
       "      <td>19</td>\n",
       "      <td>-0.816477</td>\n",
       "      <td>19.0</td>\n",
       "    </tr>\n",
       "    <tr>\n",
       "      <th>San Antonio Spurs</th>\n",
       "      <td>-0.954504</td>\n",
       "      <td>20</td>\n",
       "      <td>-0.995794</td>\n",
       "      <td>20.0</td>\n",
       "    </tr>\n",
       "    <tr>\n",
       "      <th>Charlotte Hornets</th>\n",
       "      <td>-1.190216</td>\n",
       "      <td>21</td>\n",
       "      <td>-1.252859</td>\n",
       "      <td>21.0</td>\n",
       "    </tr>\n",
       "    <tr>\n",
       "      <th>Chicago Bulls</th>\n",
       "      <td>-1.505225</td>\n",
       "      <td>22</td>\n",
       "      <td>-1.480121</td>\n",
       "      <td>22.0</td>\n",
       "    </tr>\n",
       "    <tr>\n",
       "      <th>Hospital Celtics</th>\n",
       "      <td>-2.036461</td>\n",
       "      <td>23</td>\n",
       "      <td>NaN</td>\n",
       "      <td>NaN</td>\n",
       "    </tr>\n",
       "    <tr>\n",
       "      <th>Washington Wizards</th>\n",
       "      <td>-3.287195</td>\n",
       "      <td>24</td>\n",
       "      <td>-3.193755</td>\n",
       "      <td>23.0</td>\n",
       "    </tr>\n",
       "    <tr>\n",
       "      <th>Detroit Pistons</th>\n",
       "      <td>-3.556316</td>\n",
       "      <td>25</td>\n",
       "      <td>-3.553905</td>\n",
       "      <td>24.0</td>\n",
       "    </tr>\n",
       "    <tr>\n",
       "      <th>Sacramento Kings</th>\n",
       "      <td>-3.875415</td>\n",
       "      <td>26</td>\n",
       "      <td>-3.849456</td>\n",
       "      <td>25.0</td>\n",
       "    </tr>\n",
       "    <tr>\n",
       "      <th>Minnesota Timberwolves</th>\n",
       "      <td>-6.436346</td>\n",
       "      <td>27</td>\n",
       "      <td>-6.472266</td>\n",
       "      <td>26.0</td>\n",
       "    </tr>\n",
       "    <tr>\n",
       "      <th>Cleveland Cavaliers</th>\n",
       "      <td>-6.702434</td>\n",
       "      <td>28</td>\n",
       "      <td>-6.766359</td>\n",
       "      <td>27.0</td>\n",
       "    </tr>\n",
       "    <tr>\n",
       "      <th>Houston Rockets</th>\n",
       "      <td>-7.446352</td>\n",
       "      <td>29</td>\n",
       "      <td>-7.510413</td>\n",
       "      <td>28.0</td>\n",
       "    </tr>\n",
       "    <tr>\n",
       "      <th>Orlando Magic</th>\n",
       "      <td>-8.258829</td>\n",
       "      <td>30</td>\n",
       "      <td>-8.229435</td>\n",
       "      <td>29.0</td>\n",
       "    </tr>\n",
       "    <tr>\n",
       "      <th>Oklahoma City Thunder</th>\n",
       "      <td>-8.889072</td>\n",
       "      <td>31</td>\n",
       "      <td>-8.868714</td>\n",
       "      <td>30.0</td>\n",
       "    </tr>\n",
       "  </tbody>\n",
       "</table>\n",
       "</div>"
      ],
      "text/plain": [
       "                        srs_hospital  rank_hospital       srs  rank\n",
       "Utah Jazz                   8.959173              1  8.890180   1.0\n",
       "Milwaukee Bucks             6.551915              2  6.459985   2.0\n",
       "Los Angeles Clippers        6.238262              3  6.257541   3.0\n",
       "Phoenix Suns                5.511396              4  5.624175   4.0\n",
       "Denver Nuggets              5.019958              5  4.953344   5.0\n",
       "Philadelphia 76ers          4.578293              6  4.577433   6.0\n",
       "Brooklyn Nets               4.080542              7  4.174935   7.0\n",
       "Boston Celtics              3.683743              8  1.837519  11.0\n",
       "Los Angeles Lakers          3.376560              9  3.307664   8.0\n",
       "Dallas Mavericks            2.434808             10  2.365443   9.0\n",
       "Atlanta Hawks               2.003743             11  2.087932  10.0\n",
       "New York Knicks             1.642594             12  1.671497  12.0\n",
       "Memphis Grizzlies           1.556589             13  1.577303  13.0\n",
       "New Orleans Pelicans        0.321603             14  0.256339  14.0\n",
       "Toronto Raptors            -0.033555             15  0.055957  15.0\n",
       "Golden State Warriors      -0.209970             16 -0.186250  16.0\n",
       "Portland Trail Blazers     -0.276330             17 -0.314784  17.0\n",
       "Indiana Pacers             -0.511518             18 -0.606659  18.0\n",
       "Miami Heat                 -0.789441             19 -0.816477  19.0\n",
       "San Antonio Spurs          -0.954504             20 -0.995794  20.0\n",
       "Charlotte Hornets          -1.190216             21 -1.252859  21.0\n",
       "Chicago Bulls              -1.505225             22 -1.480121  22.0\n",
       "Hospital Celtics           -2.036461             23       NaN   NaN\n",
       "Washington Wizards         -3.287195             24 -3.193755  23.0\n",
       "Detroit Pistons            -3.556316             25 -3.553905  24.0\n",
       "Sacramento Kings           -3.875415             26 -3.849456  25.0\n",
       "Minnesota Timberwolves     -6.436346             27 -6.472266  26.0\n",
       "Cleveland Cavaliers        -6.702434             28 -6.766359  27.0\n",
       "Houston Rockets            -7.446352             29 -7.510413  28.0\n",
       "Orlando Magic              -8.258829             30 -8.229435  29.0\n",
       "Oklahoma City Thunder      -8.889072             31 -8.868714  30.0"
      ]
     },
     "execution_count": 116,
     "metadata": {},
     "output_type": "execute_result"
    }
   ],
   "source": [
    "srs_df"
   ]
  },
  {
   "cell_type": "code",
   "execution_count": null,
   "metadata": {},
   "outputs": [],
   "source": []
  }
 ],
 "metadata": {
  "kernelspec": {
   "display_name": "Python 3",
   "language": "python",
   "name": "python3"
  },
  "language_info": {
   "codemirror_mode": {
    "name": "ipython",
    "version": 3
   },
   "file_extension": ".py",
   "mimetype": "text/x-python",
   "name": "python",
   "nbconvert_exporter": "python",
   "pygments_lexer": "ipython3",
   "version": "3.7.0"
  }
 },
 "nbformat": 4,
 "nbformat_minor": 2
}
